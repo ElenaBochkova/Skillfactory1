{
 "cells": [
  {
   "cell_type": "markdown",
   "metadata": {},
   "source": [
    "The Game Guess"
   ]
  },
  {
   "cell_type": "code",
   "execution_count": 2,
   "metadata": {},
   "outputs": [],
   "source": [
    "from test import score_game\n",
    "from test import random_predict"
   ]
  },
  {
   "cell_type": "code",
   "execution_count": 3,
   "metadata": {},
   "outputs": [
    {
     "name": "stdout",
     "output_type": "stream",
     "text": [
      "Ваш алгоритм угадывает число в среднем за: 101 попыток\n"
     ]
    },
    {
     "data": {
      "text/plain": [
       "101"
      ]
     },
     "execution_count": 3,
     "metadata": {},
     "output_type": "execute_result"
    }
   ],
   "source": [
    "score_game(random_predict)"
   ]
  },
  {
   "cell_type": "code",
   "execution_count": 5,
   "metadata": {},
   "outputs": [
    {
     "data": {
      "text/plain": [
       "{'BAMF_DESKTOP_FILE_HINT': '/var/lib/snapd/desktop/applications/code_code.desktop',\n",
       " 'CHROME_DESKTOP': 'code-url-handler.desktop',\n",
       " 'DBUS_SESSION_BUS_ADDRESS': 'unix:path=/run/user/1001/bus',\n",
       " 'DESKTOP_SESSION': 'ubuntu',\n",
       " 'DISPLAY': ':0',\n",
       " 'ELECTRON_NO_ATTACH_CONSOLE': '1',\n",
       " 'GDK_BACKEND': 'x11',\n",
       " 'GDK_PIXBUF_MODULEDIR': '/snap/code/143/usr/lib/x86_64-linux-gnu/gdk-pixbuf-2.0/2.10.0/loaders',\n",
       " 'GDK_PIXBUF_MODULE_FILE': '/home/alef/snap/code/common/.cache/gdk-pixbuf-loaders.cache',\n",
       " 'GDMSESSION': 'ubuntu',\n",
       " 'GIO_LAUNCHED_DESKTOP_FILE': '/var/lib/snapd/desktop/applications/code_code.desktop',\n",
       " 'GIO_LAUNCHED_DESKTOP_FILE_PID': '63192',\n",
       " 'GIO_MODULE_DIR': '/home/alef/snap/code/common/.cache/gio-modules',\n",
       " 'GJS_DEBUG_OUTPUT': 'stderr',\n",
       " 'GJS_DEBUG_TOPICS': 'JS ERROR;JS LOG',\n",
       " 'GNOME_DESKTOP_SESSION_ID': 'this-is-deprecated',\n",
       " 'GNOME_SHELL_SESSION_MODE': 'ubuntu',\n",
       " 'GPG_AGENT_INFO': '/run/user/1001/gnupg/S.gpg-agent:0:1',\n",
       " 'GSETTINGS_SCHEMA_DIR': '/home/alef/snap/code/143/.local/share/glib-2.0/schemas',\n",
       " 'GTK_EXE_PREFIX': '/snap/code/143/usr',\n",
       " 'GTK_IM_MODULE_FILE': '/home/alef/snap/code/common/.cache/immodules/immodules.cache',\n",
       " 'GTK_MODULES': 'gail:atk-bridge',\n",
       " 'GTK_PATH': '/snap/code/143/usr/lib/x86_64-linux-gnu/gtk-3.0',\n",
       " 'HOME': '/home/alef',\n",
       " 'IM_CONFIG_PHASE': '1',\n",
       " 'INVOCATION_ID': '9971cec3d26d4a8f8b4b795de7be99ea',\n",
       " 'JOURNAL_STREAM': '8:57027',\n",
       " 'LANG': 'ru_RU.UTF-8',\n",
       " 'LESSCLOSE': '/usr/bin/lesspipe %s %s',\n",
       " 'LESSOPEN': '| /usr/bin/lesspipe %s',\n",
       " 'LOCPATH': '/snap/code/143/usr/lib/locale',\n",
       " 'LOGNAME': 'alef',\n",
       " 'MANAGERPID': '2534',\n",
       " 'ORIGINAL_XDG_CURRENT_DESKTOP': 'ubuntu:GNOME',\n",
       " 'PATH': '/bin:/home/alef/.local/bin:/home/alef/.local/bin/:/usr/local/sbin:/usr/local/bin:/usr/sbin:/usr/bin:/sbin:/bin:/usr/games:/usr/local/games:/snap/bin:/home/alef/.local/bin:/home/alef/.local/bin/:/usr/local/sbin:/usr/local/bin:/usr/sbin:/usr/bin:/sbin:/bin:/usr/games:/usr/local/games:/snap/bin',\n",
       " 'PWD': '/home/alef',\n",
       " 'QT_ACCESSIBILITY': '1',\n",
       " 'QT_IM_MODULE': 'ibus',\n",
       " 'SESSION_MANAGER': 'local/alef-Latitude-5530:@/tmp/.ICE-unix/2759,unix/alef-Latitude-5530:/tmp/.ICE-unix/2759',\n",
       " 'SHELL': '/bin/bash',\n",
       " 'SHLVL': '0',\n",
       " 'SNAP': '/snap/code/143',\n",
       " 'SNAP_ARCH': 'amd64',\n",
       " 'SNAP_COMMON': '/var/snap/code/common',\n",
       " 'SNAP_CONTEXT': 'X7_bi8fOgSGGBkiQ5P4PwhA9n9lkqSJIBk-QON_LLV3jMMbkOrWE',\n",
       " 'SNAP_COOKIE': 'X7_bi8fOgSGGBkiQ5P4PwhA9n9lkqSJIBk-QON_LLV3jMMbkOrWE',\n",
       " 'SNAP_DATA': '/var/snap/code/143',\n",
       " 'SNAP_EUID': '1001',\n",
       " 'SNAP_INSTANCE_NAME': 'code',\n",
       " 'SNAP_LAUNCHER_ARCH_TRIPLET': 'x86_64-linux-gnu',\n",
       " 'SNAP_LIBRARY_PATH': '/var/lib/snapd/lib/gl:/var/lib/snapd/lib/gl32:/var/lib/snapd/void',\n",
       " 'SNAP_NAME': 'code',\n",
       " 'SNAP_REAL_HOME': '/home/alef',\n",
       " 'SNAP_REVISION': '143',\n",
       " 'SNAP_UID': '1001',\n",
       " 'SNAP_USER_COMMON': '/home/alef/snap/code/common',\n",
       " 'SNAP_USER_DATA': '/home/alef/snap/code/143',\n",
       " 'SNAP_VERSION': 'f1b07bd2',\n",
       " 'SSH_AGENT_PID': '2715',\n",
       " 'SSH_AUTH_SOCK': '/run/user/1001/keyring/ssh',\n",
       " 'USER': 'alef',\n",
       " 'USERNAME': 'alef',\n",
       " 'VSCODE_AMD_ENTRYPOINT': 'vs/workbench/api/node/extensionHostProcess',\n",
       " 'VSCODE_CLI': '1',\n",
       " 'VSCODE_CODE_CACHE_PATH': '/home/alef/.config/Code/CachedData/f1b07bd25dfad64b0167beb15359ae573aecd2cc',\n",
       " 'VSCODE_CRASH_REPORTER_PROCESS_TYPE': 'extensionHost',\n",
       " 'VSCODE_CWD': '/home/alef',\n",
       " 'VSCODE_HANDLES_UNCAUGHT_ERRORS': 'true',\n",
       " 'VSCODE_IPC_HOOK': '/run/user/1001/vscode-6cb73664-1.83-main.sock',\n",
       " 'VSCODE_NLS_CONFIG': '{\"locale\":\"en-us\",\"osLocale\":\"ru-ru\",\"availableLanguages\":{},\"_languagePackSupport\":true}',\n",
       " 'VSCODE_PID': '63243',\n",
       " 'WINDOWPATH': '2',\n",
       " 'XAUTHORITY': '/run/user/1001/gdm/Xauthority',\n",
       " 'XDG_CONFIG_DIRS': '/etc/xdg/xdg-ubuntu:/etc/xdg',\n",
       " 'XDG_CONFIG_DIRS_VSCODE_SNAP_ORIG': '/etc/xdg/xdg-ubuntu:/etc/xdg',\n",
       " 'XDG_CURRENT_DESKTOP': 'Unity',\n",
       " 'XDG_DATA_DIRS': '/home/alef/snap/code/143/.local/share:/home/alef/snap/code/143:/snap/code/143/usr/share:/usr/share/ubuntu:/usr/local/share/:/usr/share/:/var/lib/snapd/desktop',\n",
       " 'XDG_DATA_DIRS_VSCODE_SNAP_ORIG': '/usr/share/ubuntu:/usr/local/share/:/usr/share/:/var/lib/snapd/desktop',\n",
       " 'XDG_MENU_PREFIX': 'gnome-',\n",
       " 'XDG_RUNTIME_DIR': '/run/user/1001',\n",
       " 'XDG_SESSION_CLASS': 'user',\n",
       " 'XDG_SESSION_DESKTOP': 'ubuntu',\n",
       " 'XDG_SESSION_TYPE': 'x11',\n",
       " 'XMODIFIERS': '@im=ibus',\n",
       " '_': '/snap/code/143/usr/share/code/code',\n",
       " 'ELECTRON_RUN_AS_NODE': '1',\n",
       " 'VSCODE_L10N_BUNDLE_LOCATION': '',\n",
       " 'PYDEVD_IPYTHON_COMPATIBLE_DEBUGGING': '1',\n",
       " 'PYTHONUNBUFFERED': '1',\n",
       " 'PYTHONIOENCODING': 'utf-8',\n",
       " 'PYDEVD_USE_FRAME_EVAL': 'NO',\n",
       " 'TERM': 'xterm-color',\n",
       " 'CLICOLOR': '1',\n",
       " 'FORCE_COLOR': '1',\n",
       " 'CLICOLOR_FORCE': '1',\n",
       " 'PAGER': 'cat',\n",
       " 'GIT_PAGER': 'cat',\n",
       " 'MPLBACKEND': 'module://matplotlib_inline.backend_inline'}"
      ]
     },
     "execution_count": 5,
     "metadata": {},
     "output_type": "execute_result"
    }
   ],
   "source": [
    "%env"
   ]
  }
 ],
 "metadata": {
  "kernelspec": {
   "display_name": "Python 3",
   "language": "python",
   "name": "python3"
  },
  "language_info": {
   "codemirror_mode": {
    "name": "ipython",
    "version": 3
   },
   "file_extension": ".py",
   "mimetype": "text/x-python",
   "name": "python",
   "nbconvert_exporter": "python",
   "pygments_lexer": "ipython3",
   "version": "3.9.18"
  }
 },
 "nbformat": 4,
 "nbformat_minor": 2
}
